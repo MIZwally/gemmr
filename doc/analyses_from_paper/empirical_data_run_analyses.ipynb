{
 "cells": [
  {
   "cell_type": "markdown",
   "metadata": {},
   "source": [
    "# Empirical data: run analyses"
   ]
  },
  {
   "cell_type": "markdown",
   "metadata": {},
   "source": [
    "In this notebook, we perform CCA and PLS analyses of empirical datasets."
   ]
  },
  {
   "cell_type": "markdown",
   "metadata": {},
   "source": [
    "*Note:* The used datasets are not included in this release."
   ]
  },
  {
   "cell_type": "markdown",
   "metadata": {},
   "source": [
    "## Setup"
   ]
  },
  {
   "cell_type": "code",
   "execution_count": null,
   "metadata": {},
   "outputs": [],
   "source": [
    "import numbers \n",
    "import os\n",
    "\n",
    "import numpy as np\n",
    "import xarray as xr\n",
    "import pandas as pd\n",
    "from scipy.stats import beta\n",
    "from scipy.spatial.distance import pdist\n",
    "\n",
    "from sklearn.utils import check_random_state\n",
    "\n",
    "import pickle\n",
    "\n",
    "from gemmr.data import *\n",
    "from gemmr.data.preprocessing import _smith_feature_names, _check_features\n",
    "from gemmr.estimators import *\n",
    "from gemmr.sample_analysis import *\n",
    "from gemmr.sample_analysis.macros import *\n",
    "from gemmr.model_selection import max_min_detector\n",
    "\n",
    "import matplotlib\n",
    "import holoviews as hv\n",
    "from holoviews import opts\n",
    "hv.extension('matplotlib')\n",
    "hv.renderer('matplotlib').set_param(dpi=120)\n",
    "\n",
    "from my_config import *\n",
    "\n",
    "import warnings\n",
    "from matplotlib import MatplotlibDeprecationWarning\n",
    "warnings.simplefilter('ignore', MatplotlibDeprecationWarning)\n",
    "warnings.filterwarnings(\n",
    "    'ignore', 'aspect is not supported for Axes with xscale=log, yscale=linear', category=UserWarning\n",
    ")  # holoviews emits this for log-linear plots"
   ]
  },
  {
   "cell_type": "code",
   "execution_count": 2,
   "metadata": {},
   "outputs": [],
   "source": [
    "hcp_fMRI_palm_permutations = pd.read_csv(os.path.expanduser('~/Projects/restricted_data/hcp/palm_permutations.txt'), index_col=None, header=None).T.values - 1"
   ]
  },
  {
   "cell_type": "code",
   "execution_count": 6,
   "metadata": {},
   "outputs": [
    {
     "name": "stdout",
     "output_type": "stream",
     "text": [
      "948\n"
     ]
    }
   ],
   "source": [
    "_ds = xr.open_dataset('~/gemmr_data/empirical/hcp_fMRI_pcs.nc')\n",
    "hcp_fMRI_X, hcp_fMRI_Y = _ds['X_pcs'].values, _ds['Y_pcs'].values\n",
    "\n",
    "print(len(hcp_fMRI_X))"
   ]
  },
  {
   "cell_type": "code",
   "execution_count": 7,
   "metadata": {},
   "outputs": [
    {
     "name": "stdout",
     "output_type": "stream",
     "text": [
      "1020\n"
     ]
    }
   ],
   "source": [
    "_ds = xr.open_dataset('~/gemmr_data/empirical/hcp_dMRI_pcs.nc')\n",
    "hcp_dMRI_X, hcp_dMRI_Y = _ds['X_pcs'].values, _ds['Y_pcs'].values\n",
    "\n",
    "print(len(hcp_dMRI_X))"
   ]
  },
  {
   "cell_type": "code",
   "execution_count": 8,
   "metadata": {},
   "outputs": [
    {
     "name": "stdout",
     "output_type": "stream",
     "text": [
      "20000\n"
     ]
    }
   ],
   "source": [
    "_ds = xr.open_dataset('~/gemmr_data/empirical/ukbb_fMRI_pcs.nc')\n",
    "ukbb_fMRI_X, ukbb_fMRI_Y = _ds['X_pcs'].values, _ds['Y_pcs'].values\n",
    "\n",
    "print(len(ukbb_fMRI_X))"
   ]
  },
  {
   "cell_type": "code",
   "execution_count": 13,
   "metadata": {},
   "outputs": [
    {
     "name": "stdout",
     "output_type": "stream",
     "text": [
      "948\n"
     ]
    }
   ],
   "source": [
    "_ds = xr.open_dataset('~/gemmr_data/empirical/hcp_fMRI_optiNpcs_pcs.nc')\n",
    "hcp_fMRI_opti_nPCs_X, hcp_fMRI_optiNpcs_Y = _ds['X_pcs'].values, _ds['Y_pcs'].values\n",
    "\n",
    "print(len(hcp_fMRI_opti_nPCs_X))"
   ]
  },
  {
   "cell_type": "markdown",
   "metadata": {},
   "source": [
    "## Run analyses"
   ]
  },
  {
   "cell_type": "code",
   "execution_count": 4,
   "metadata": {},
   "outputs": [],
   "source": [
    "# Estimators used later\n",
    "pls = SVDPLS(n_components=1, scale=False, std_ddof=1)\n",
    "cca = SVDCCA(n_components=1, scale=False, std_ddof=1, normalize_weights=True, cov_out_of_bounds='ignore')"
   ]
  },
  {
   "cell_type": "markdown",
   "metadata": {},
   "source": [
    "*Note:* The following cells take a long time to run, especially UKBB"
   ]
  },
  {
   "cell_type": "markdown",
   "metadata": {},
   "source": [
    "### HCP fMRI"
   ]
  },
  {
   "cell_type": "code",
   "execution_count": 81,
   "metadata": {},
   "outputs": [
    {
     "data": {
      "text/plain": [
       "189.60000000000002"
      ]
     },
     "execution_count": 81,
     "metadata": {},
     "output_type": "execute_result"
    }
   ],
   "source": [
    "len(hcp_fMRI_X)* .2"
   ]
  },
  {
   "cell_type": "code",
   "execution_count": null,
   "metadata": {},
   "outputs": [],
   "source": [
    "hcp_fMRI_cca_analyses = analyze_subsampled_and_resampled(\n",
    "    cca, hcp_fMRI_X, hcp_fMRI_Y, permutations=hcp_fMRI_palm_permutations[1:1001], n_test_subsample=189, n_jobs=-2, \n",
    ")\n",
    "pickle.dump(hcp_fMRI_cca_analyses, open('hcp_fMRI_cca_analyses.pickle', 'wb'))"
   ]
  },
  {
   "cell_type": "code",
   "execution_count": null,
   "metadata": {},
   "outputs": [],
   "source": [
    "hcp_fMRI_pls_analyses = analyze_subsampled_and_resampled(\n",
    "    pls, hcp_fMRI_X, hcp_fMRI_Y, permutations=hcp_fMRI_palm_permutations[1:1001], n_test_subsample=189, n_jobs=-2\n",
    ")\n",
    "pickle.dump(hcp_fMRI_pls_analyses, open('hcp_fMRI_pls_analyses.pickle', 'wb'))"
   ]
  },
  {
   "cell_type": "markdown",
   "metadata": {},
   "source": [
    "### HCP dMRI"
   ]
  },
  {
   "cell_type": "code",
   "execution_count": null,
   "metadata": {
    "tags": [
     "outputPrepend"
    ]
   },
   "outputs": [],
   "source": [
    "hcp_dMRI_cca_analyses = analyze_subsampled_and_resampled(\n",
    "    cca, hcp_dMRI_X, hcp_dMRI_Y, n_test_subsample=189, n_jobs=-2\n",
    ")\n",
    "pickle.dump(hcp_dMRI_cca_analyses, open('hcp_dMRI_cca_analyses.pickle', 'wb'))"
   ]
  },
  {
   "cell_type": "code",
   "execution_count": null,
   "metadata": {},
   "outputs": [],
   "source": [
    "hcp_dMRI_pls_analyses = analyze_subsampled_and_resampled(\n",
    "    pls, hcp_dMRI_X, hcp_dMRI_Y, n_test_subsample=189, n_jobs=-2\n",
    ")\n",
    "pickle.dump(hcp_dMRI_pls_analyses, open('hcp_dMRI_pls_analyses.pickle', 'wb'))"
   ]
  },
  {
   "cell_type": "markdown",
   "metadata": {},
   "source": [
    "### UKBB fMRI"
   ]
  },
  {
   "cell_type": "code",
   "execution_count": null,
   "metadata": {},
   "outputs": [],
   "source": [
    "ukbb_fMRI_cca_analyses = analyze_subsampled_and_resampled(\n",
    "    cca, ukbb_fMRI_X, ukbb_fMRI_Y, n_test_subsample=189, n_jobs=-2\n",
    ")\n",
    "pickle.dump(ukbb_fMRI_cca_analyses, open('ukbb_fMRI_cca_analyses.pickle', 'wb'))"
   ]
  },
  {
   "cell_type": "code",
   "execution_count": null,
   "metadata": {},
   "outputs": [],
   "source": [
    "ukbb_fMRI_pls_analyses = analyze_subsampled_and_resampled(\n",
    "    pls, ukbb_fMRI_X, ukbb_fMRI_Y, n_test_subsample=189, n_jobs=-2\n",
    ")\n",
    "pickle.dump(ukbb_fMRI_pls_analyses, open('ukbb_fMRI_pls_analyses.pickle', 'wb'))"
   ]
  },
  {
   "cell_type": "markdown",
   "metadata": {},
   "source": [
    "### HCP fMRI with optimized number of PCs"
   ]
  },
  {
   "cell_type": "code",
   "execution_count": null,
   "metadata": {},
   "outputs": [],
   "source": [
    "hcp_fMRI_optiNpcs_cca_analyses = analyze_subsampled_and_resampled(\n",
    "    cca, hcp_fMRI_opti_nPCs_X, hcp_fMRI_optiNpcs_Y, permutations=hcp_fMRI_palm_permutations[1:1001], n_jobs=-2\n",
    ")\n",
    "pickle.dump(hcp_fMRI_optiNpcs_cca_analyses, open('hcp_fMRI_optiNpcs_cca_analyses.pickle', 'wb'))"
   ]
  },
  {
   "cell_type": "code",
   "execution_count": null,
   "metadata": {},
   "outputs": [],
   "source": [
    "hcp_fMRI_optiNpcs_pls_analyses = analyze_subsampled_and_resampled(\n",
    "    pls, hcp_fMRI_opti_nPCs_X, hcp_fMRI_optiNpcs_Y, permutations=hcp_fMRI_palm_permutations[1:1001], n_jobs=-2,\n",
    ")\n",
    "pickle.dump(hcp_fMRI_optiNpcs_pls_analyses, open('hcp_fMRI_optiNpcs_pls_analyses.pickle', 'wb'))"
   ]
  }
 ],
 "metadata": {
  "kernelspec": {
   "display_name": "Python 3",
   "language": "python",
   "name": "python3"
  },
  "language_info": {
   "codemirror_mode": {
    "name": "ipython",
    "version": 3
   },
   "file_extension": ".py",
   "mimetype": "text/x-python",
   "name": "python",
   "nbconvert_exporter": "python",
   "pygments_lexer": "ipython3",
   "version": "3.6.10"
  }
 },
 "nbformat": 4,
 "nbformat_minor": 4
}
